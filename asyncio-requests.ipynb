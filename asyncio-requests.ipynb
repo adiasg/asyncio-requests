{
 "cells": [
  {
   "cell_type": "code",
   "execution_count": null,
   "metadata": {
    "collapsed": true
   },
   "outputs": [],
   "source": [
    "# This is a project that makes asynchronous requests using asyncio and requests\n",
    "# Inspired by http://skipperkongen.dk/2016/09/09/easy-parallel-http-requests-with-python-and-asyncio/"
   ]
  },
  {
   "cell_type": "code",
   "execution_count": 1,
   "metadata": {
    "collapsed": true
   },
   "outputs": [],
   "source": [
    "import asyncio\n",
    "import timeit\n",
    "import os\n",
    "import threading\n",
    "import requests"
   ]
  },
  {
   "cell_type": "code",
   "execution_count": 2,
   "metadata": {
    "collapsed": true
   },
   "outputs": [],
   "source": [
    "def synchronous_requests(urls):\n",
    "    responses = [ requests.get(url) for url in urls ]\n",
    "    return responses"
   ]
  },
  {
   "cell_type": "code",
   "execution_count": 3,
   "metadata": {
    "collapsed": true
   },
   "outputs": [],
   "source": [
    "def get(url):\n",
    "    print(\"For URL: {0} PID: {1} TID: {2}\\n\".format( url, os.getpid(), threading.get_ident() ))\n",
    "    return requests.get(url)"
   ]
  },
  {
   "cell_type": "code",
   "execution_count": 4,
   "metadata": {
    "collapsed": true
   },
   "outputs": [],
   "source": [
    "async def asynchronous_requests(urls, data):\n",
    "    loop = asyncio.get_event_loop()\n",
    "    futures = [ loop.run_in_executor(None, get, url) for url in urls ]\n",
    "    for future in futures:\n",
    "        asyncio.ensure_future(future)\n",
    "    data = [ None for future in futures ]\n",
    "    for iter in range(len(futures)):\n",
    "        data[iter] = await futures[iter]\n",
    "    return data"
   ]
  },
  {
   "cell_type": "code",
   "execution_count": 5,
   "metadata": {},
   "outputs": [
    {
     "name": "stdout",
     "output_type": "stream",
     "text": [
      "Time elapsed: 6.370854656001029\n",
      "URL: http://xkcd.com \t Content-Type: text/html; charset=UTF-8\n",
      "URL: http://www.google.com \t Content-Type: text/html; charset=ISO-8859-1\n",
      "URL: http://www.reddit.com \t Content-Type: text/html; charset=UTF-8\n",
      "URL: http://www.facebook.com \t Content-Type: text/html; charset=UTF-8\n"
     ]
    }
   ],
   "source": [
    "urls = [ 'http://xkcd.com', 'http://www.google.com', 'http://www.reddit.com', 'http://www.facebook.com' ]\n",
    "start = timeit.default_timer()\n",
    "responses = synchronous_requests(urls)\n",
    "end = timeit.default_timer()\n",
    "print(\"Time elapsed:\",end-start)\n",
    "for iter in range(len(responses)):\n",
    "    print(\"URL: {0} \\t Content-Type: {1}\".format( urls[iter], responses[iter].headers['Content-Type'] ))"
   ]
  },
  {
   "cell_type": "code",
   "execution_count": 6,
   "metadata": {},
   "outputs": [
    {
     "name": "stdout",
     "output_type": "stream",
     "text": [
      "For URL: http://xkcd.com PID: 5234 TID: 139625240479488\n",
      "\n",
      "For URL: http://www.google.com PID: 5234 TID: 139624823387904\n",
      "\n",
      "For URL: http://www.reddit.com PID: 5234 TID: 139624814995200\n",
      "\n",
      "For URL: http://www.facebook.com PID: 5234 TID: 139624806602496\n",
      "\n",
      "Time elapsed: 1.9853229260043008\n",
      "URL: http://xkcd.com \t Content-Type: text/html; charset=UTF-8\n",
      "URL: http://www.google.com \t Content-Type: text/html; charset=ISO-8859-1\n",
      "URL: http://www.reddit.com \t Content-Type: text/html; charset=UTF-8\n",
      "URL: http://www.facebook.com \t Content-Type: text/html; charset=UTF-8\n"
     ]
    }
   ],
   "source": [
    "start = timeit.default_timer()\n",
    "loop = asyncio.get_event_loop()\n",
    "responses = []\n",
    "responses = loop.run_until_complete(asynchronous_requests(urls, responses))\n",
    "end = timeit.default_timer()\n",
    "print(\"Time elapsed:\",end-start)\n",
    "for iter in range(len(responses)):\n",
    "    print(\"URL: {0} \\t Content-Type: {1}\".format( urls[iter], responses[iter].headers['Content-Type'] ))"
   ]
  }
 ],
 "metadata": {
  "kernelspec": {
   "display_name": "Python 3",
   "language": "python",
   "name": "python3"
  },
  "language_info": {
   "codemirror_mode": {
    "name": "ipython",
    "version": 3
   },
   "file_extension": ".py",
   "mimetype": "text/x-python",
   "name": "python",
   "nbconvert_exporter": "python",
   "pygments_lexer": "ipython3",
   "version": "3.5.3"
  }
 },
 "nbformat": 4,
 "nbformat_minor": 2
}
